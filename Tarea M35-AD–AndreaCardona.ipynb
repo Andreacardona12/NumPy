{
 "cells": [
  {
   "cell_type": "code",
   "execution_count": 5,
   "id": "d058c123",
   "metadata": {},
   "outputs": [],
   "source": [
    "import pandas as pd\n",
    "import numpy as np\n",
    "\n",
    "#Archivo\n",
    "df = pd.read_csv(\"supermarket_sales.csv\")"
   ]
  },
  {
   "cell_type": "code",
   "execution_count": 4,
   "id": "23b1e020",
   "metadata": {},
   "outputs": [
    {
     "data": {
      "text/html": [
       "<div>\n",
       "<style scoped>\n",
       "    .dataframe tbody tr th:only-of-type {\n",
       "        vertical-align: middle;\n",
       "    }\n",
       "\n",
       "    .dataframe tbody tr th {\n",
       "        vertical-align: top;\n",
       "    }\n",
       "\n",
       "    .dataframe thead th {\n",
       "        text-align: right;\n",
       "    }\n",
       "</style>\n",
       "<table border=\"1\" class=\"dataframe\">\n",
       "  <thead>\n",
       "    <tr style=\"text-align: right;\">\n",
       "      <th></th>\n",
       "      <th>Invoice ID</th>\n",
       "      <th>Branch</th>\n",
       "      <th>City</th>\n",
       "      <th>Customer type</th>\n",
       "      <th>Gender</th>\n",
       "      <th>Product line</th>\n",
       "      <th>Unit price</th>\n",
       "      <th>Quantity</th>\n",
       "      <th>Tax 5%</th>\n",
       "      <th>Total</th>\n",
       "      <th>Date</th>\n",
       "      <th>Time</th>\n",
       "      <th>Payment</th>\n",
       "      <th>cogs</th>\n",
       "      <th>gross margin percentage</th>\n",
       "      <th>gross income</th>\n",
       "      <th>Rating</th>\n",
       "    </tr>\n",
       "  </thead>\n",
       "  <tbody>\n",
       "    <tr>\n",
       "      <th>697</th>\n",
       "      <td>826-58-8051</td>\n",
       "      <td>B</td>\n",
       "      <td>Mandalay</td>\n",
       "      <td>Normal</td>\n",
       "      <td>Male</td>\n",
       "      <td>Home and lifestyle</td>\n",
       "      <td>62.19</td>\n",
       "      <td>4</td>\n",
       "      <td>12.4380</td>\n",
       "      <td>261.1980</td>\n",
       "      <td>1/6/2019</td>\n",
       "      <td>19:46</td>\n",
       "      <td>Ewallet</td>\n",
       "      <td>248.76</td>\n",
       "      <td>4.761905</td>\n",
       "      <td>12.4380</td>\n",
       "      <td>4.3</td>\n",
       "    </tr>\n",
       "    <tr>\n",
       "      <th>859</th>\n",
       "      <td>316-66-3011</td>\n",
       "      <td>A</td>\n",
       "      <td>Yangon</td>\n",
       "      <td>Member</td>\n",
       "      <td>Female</td>\n",
       "      <td>Food and beverages</td>\n",
       "      <td>47.63</td>\n",
       "      <td>9</td>\n",
       "      <td>21.4335</td>\n",
       "      <td>450.1035</td>\n",
       "      <td>1/23/2019</td>\n",
       "      <td>12:35</td>\n",
       "      <td>Cash</td>\n",
       "      <td>428.67</td>\n",
       "      <td>4.761905</td>\n",
       "      <td>21.4335</td>\n",
       "      <td>5.0</td>\n",
       "    </tr>\n",
       "    <tr>\n",
       "      <th>338</th>\n",
       "      <td>633-09-3463</td>\n",
       "      <td>C</td>\n",
       "      <td>Naypyitaw</td>\n",
       "      <td>Normal</td>\n",
       "      <td>Female</td>\n",
       "      <td>Electronic accessories</td>\n",
       "      <td>47.65</td>\n",
       "      <td>3</td>\n",
       "      <td>7.1475</td>\n",
       "      <td>150.0975</td>\n",
       "      <td>3/28/2019</td>\n",
       "      <td>12:58</td>\n",
       "      <td>Credit card</td>\n",
       "      <td>142.95</td>\n",
       "      <td>4.761905</td>\n",
       "      <td>7.1475</td>\n",
       "      <td>9.5</td>\n",
       "    </tr>\n",
       "  </tbody>\n",
       "</table>\n",
       "</div>"
      ],
      "text/plain": [
       "      Invoice ID Branch       City Customer type  Gender  \\\n",
       "697  826-58-8051      B   Mandalay        Normal    Male   \n",
       "859  316-66-3011      A     Yangon        Member  Female   \n",
       "338  633-09-3463      C  Naypyitaw        Normal  Female   \n",
       "\n",
       "               Product line  Unit price  Quantity   Tax 5%     Total  \\\n",
       "697      Home and lifestyle       62.19         4  12.4380  261.1980   \n",
       "859      Food and beverages       47.63         9  21.4335  450.1035   \n",
       "338  Electronic accessories       47.65         3   7.1475  150.0975   \n",
       "\n",
       "          Date   Time      Payment    cogs  gross margin percentage  \\\n",
       "697   1/6/2019  19:46      Ewallet  248.76                 4.761905   \n",
       "859  1/23/2019  12:35         Cash  428.67                 4.761905   \n",
       "338  3/28/2019  12:58  Credit card  142.95                 4.761905   \n",
       "\n",
       "     gross income  Rating  \n",
       "697       12.4380     4.3  \n",
       "859       21.4335     5.0  \n",
       "338        7.1475     9.5  "
      ]
     },
     "execution_count": 4,
     "metadata": {},
     "output_type": "execute_result"
    }
   ],
   "source": [
    "df.sample(3)"
   ]
  },
  {
   "cell_type": "code",
   "execution_count": 6,
   "id": "70adbd87",
   "metadata": {},
   "outputs": [
    {
     "data": {
      "text/plain": [
       "Index(['invoice_id', 'branch', 'city', 'customer_type', 'gender',\n",
       "       'product_line', 'unit_price', 'quantity', 'tax_5%', 'total', 'date',\n",
       "       'time', 'payment', 'cogs', 'gross_margin_percentage', 'gross_income',\n",
       "       'rating'],\n",
       "      dtype='object')"
      ]
     },
     "execution_count": 6,
     "metadata": {},
     "output_type": "execute_result"
    }
   ],
   "source": [
    "df.columns = df.columns.str.strip().str.lower().str.replace(' ', '_')\n",
    "df.columns"
   ]
  },
  {
   "cell_type": "code",
   "execution_count": 15,
   "id": "5906ea6b",
   "metadata": {},
   "outputs": [],
   "source": [
    "# Generar estadística descriptiva básica en las columnas unit_price y quantity\n",
    "# Primero convertir a array Numpy\n",
    "unit_price_np = df['unit_price'].to_numpy()\n",
    "quantity_np = df['quantity'].to_numpy()\n",
    "total_np = df['total'].to_numpy()   \n"
   ]
  },
  {
   "cell_type": "code",
   "execution_count": 10,
   "id": "203730ed",
   "metadata": {},
   "outputs": [
    {
     "data": {
      "text/plain": [
       "(numpy.ndarray, numpy.ndarray)"
      ]
     },
     "execution_count": 10,
     "metadata": {},
     "output_type": "execute_result"
    }
   ],
   "source": [
    "type(unit_price_np), type(quantity_np)"
   ]
  },
  {
   "cell_type": "code",
   "execution_count": 12,
   "id": "9dbc4548",
   "metadata": {},
   "outputs": [
    {
     "name": "stdout",
     "output_type": "stream",
     "text": [
      "Media de unit_price: 55.67213\n",
      "Media de quantity: 5.51\n"
     ]
    }
   ],
   "source": [
    "# Media\n",
    "unit_price_mean = np.mean(unit_price_np)\n",
    "quantity_mean = np.mean(quantity_np)\n",
    "\n",
    "print(f\"Media de unit_price: {unit_price_mean}\")\n",
    "print(f\"Media de quantity: {quantity_mean}\")\n"
   ]
  },
  {
   "cell_type": "code",
   "execution_count": 13,
   "id": "8de14d76",
   "metadata": {},
   "outputs": [
    {
     "name": "stdout",
     "output_type": "stream",
     "text": [
      "La moda de unit_price_np = 83.77\n",
      "La moda de quantity_np = 10.00\n"
     ]
    }
   ],
   "source": [
    "# Moda\n",
    "vals, counts = np.unique (unit_price_np, return_counts=True)\n",
    "index = np.argmax (counts) \n",
    "moda = vals[index]\n",
    "print(f'La moda de unit_price_np = {moda:.2f}')\n",
    "\n",
    "vals, counts = np.unique (quantity_np, return_counts=True)\n",
    "index = np.argmax (counts) \n",
    "moda = vals[index]\n",
    "print(f'La moda de quantity_np = {moda:.2f}')"
   ]
  },
  {
   "cell_type": "code",
   "execution_count": 14,
   "id": "a773f25d",
   "metadata": {},
   "outputs": [
    {
     "name": "stdout",
     "output_type": "stream",
     "text": [
      "La mediana de unit_price_np = 55.23\n",
      "La mediana de quantity_np = 5.00\n"
     ]
    }
   ],
   "source": [
    "# Mediana\n",
    "mediana = np.median(unit_price_np)\n",
    "print(f'La mediana de unit_price_np = {mediana:.2f}')   \n",
    "\n",
    "mediana = np.median(quantity_np)\n",
    "print(f'La mediana de quantity_np = {mediana:.2f}')"
   ]
  },
  {
   "cell_type": "code",
   "execution_count": 22,
   "id": "aeee6b7e",
   "metadata": {},
   "outputs": [
    {
     "data": {
      "text/html": [
       "<div>\n",
       "<style scoped>\n",
       "    .dataframe tbody tr th:only-of-type {\n",
       "        vertical-align: middle;\n",
       "    }\n",
       "\n",
       "    .dataframe tbody tr th {\n",
       "        vertical-align: top;\n",
       "    }\n",
       "\n",
       "    .dataframe thead th {\n",
       "        text-align: right;\n",
       "    }\n",
       "</style>\n",
       "<table border=\"1\" class=\"dataframe\">\n",
       "  <thead>\n",
       "    <tr style=\"text-align: right;\">\n",
       "      <th></th>\n",
       "      <th>city</th>\n",
       "      <th>total</th>\n",
       "    </tr>\n",
       "  </thead>\n",
       "  <tbody>\n",
       "    <tr>\n",
       "      <th>0</th>\n",
       "      <td>Mandalay</td>\n",
       "      <td>319.87</td>\n",
       "    </tr>\n",
       "    <tr>\n",
       "      <th>1</th>\n",
       "      <td>Naypyitaw</td>\n",
       "      <td>337.10</td>\n",
       "    </tr>\n",
       "    <tr>\n",
       "      <th>2</th>\n",
       "      <td>Yangon</td>\n",
       "      <td>312.35</td>\n",
       "    </tr>\n",
       "  </tbody>\n",
       "</table>\n",
       "</div>"
      ],
      "text/plain": [
       "        city   total\n",
       "0   Mandalay  319.87\n",
       "1  Naypyitaw  337.10\n",
       "2     Yangon  312.35"
      ]
     },
     "execution_count": 22,
     "metadata": {},
     "output_type": "execute_result"
    }
   ],
   "source": [
    "# Obtener ticket promedio por ciudad\n",
    "ticket_promedio = df.groupby('city')['total'].mean().reset_index()\n",
    "ticket_promedio['total'] = ticket_promedio['total'].round(2)\n",
    "ticket_promedio\n"
   ]
  },
  {
   "cell_type": "code",
   "execution_count": 24,
   "id": "30dbb997",
   "metadata": {},
   "outputs": [
    {
     "data": {
      "text/html": [
       "<div>\n",
       "<style scoped>\n",
       "    .dataframe tbody tr th:only-of-type {\n",
       "        vertical-align: middle;\n",
       "    }\n",
       "\n",
       "    .dataframe tbody tr th {\n",
       "        vertical-align: top;\n",
       "    }\n",
       "\n",
       "    .dataframe thead th {\n",
       "        text-align: right;\n",
       "    }\n",
       "</style>\n",
       "<table border=\"1\" class=\"dataframe\">\n",
       "  <thead>\n",
       "    <tr style=\"text-align: right;\">\n",
       "      <th></th>\n",
       "      <th>city</th>\n",
       "      <th>product_line</th>\n",
       "      <th>total</th>\n",
       "    </tr>\n",
       "  </thead>\n",
       "  <tbody>\n",
       "    <tr>\n",
       "      <th>3</th>\n",
       "      <td>Mandalay</td>\n",
       "      <td>Health and beauty</td>\n",
       "      <td>376.99</td>\n",
       "    </tr>\n",
       "    <tr>\n",
       "      <th>8</th>\n",
       "      <td>Naypyitaw</td>\n",
       "      <td>Food and beverages</td>\n",
       "      <td>360.10</td>\n",
       "    </tr>\n",
       "    <tr>\n",
       "      <th>4</th>\n",
       "      <td>Mandalay</td>\n",
       "      <td>Home and lifestyle</td>\n",
       "      <td>350.98</td>\n",
       "    </tr>\n",
       "    <tr>\n",
       "      <th>11</th>\n",
       "      <td>Naypyitaw</td>\n",
       "      <td>Sports and travel</td>\n",
       "      <td>350.27</td>\n",
       "    </tr>\n",
       "    <tr>\n",
       "      <th>6</th>\n",
       "      <td>Naypyitaw</td>\n",
       "      <td>Electronic accessories</td>\n",
       "      <td>344.89</td>\n",
       "    </tr>\n",
       "    <tr>\n",
       "      <th>16</th>\n",
       "      <td>Yangon</td>\n",
       "      <td>Home and lifestyle</td>\n",
       "      <td>344.88</td>\n",
       "    </tr>\n",
       "    <tr>\n",
       "      <th>7</th>\n",
       "      <td>Naypyitaw</td>\n",
       "      <td>Fashion accessories</td>\n",
       "      <td>331.69</td>\n",
       "    </tr>\n",
       "    <tr>\n",
       "      <th>17</th>\n",
       "      <td>Yangon</td>\n",
       "      <td>Sports and travel</td>\n",
       "      <td>328.35</td>\n",
       "    </tr>\n",
       "    <tr>\n",
       "      <th>5</th>\n",
       "      <td>Mandalay</td>\n",
       "      <td>Sports and travel</td>\n",
       "      <td>322.39</td>\n",
       "    </tr>\n",
       "    <tr>\n",
       "      <th>13</th>\n",
       "      <td>Yangon</td>\n",
       "      <td>Fashion accessories</td>\n",
       "      <td>320.25</td>\n",
       "    </tr>\n",
       "    <tr>\n",
       "      <th>9</th>\n",
       "      <td>Naypyitaw</td>\n",
       "      <td>Health and beauty</td>\n",
       "      <td>319.53</td>\n",
       "    </tr>\n",
       "    <tr>\n",
       "      <th>0</th>\n",
       "      <td>Mandalay</td>\n",
       "      <td>Electronic accessories</td>\n",
       "      <td>310.03</td>\n",
       "    </tr>\n",
       "    <tr>\n",
       "      <th>10</th>\n",
       "      <td>Naypyitaw</td>\n",
       "      <td>Home and lifestyle</td>\n",
       "      <td>308.79</td>\n",
       "    </tr>\n",
       "    <tr>\n",
       "      <th>12</th>\n",
       "      <td>Yangon</td>\n",
       "      <td>Electronic accessories</td>\n",
       "      <td>305.29</td>\n",
       "    </tr>\n",
       "    <tr>\n",
       "      <th>2</th>\n",
       "      <td>Mandalay</td>\n",
       "      <td>Food and beverages</td>\n",
       "      <td>304.30</td>\n",
       "    </tr>\n",
       "    <tr>\n",
       "      <th>14</th>\n",
       "      <td>Yangon</td>\n",
       "      <td>Food and beverages</td>\n",
       "      <td>295.92</td>\n",
       "    </tr>\n",
       "    <tr>\n",
       "      <th>15</th>\n",
       "      <td>Yangon</td>\n",
       "      <td>Health and beauty</td>\n",
       "      <td>268.04</td>\n",
       "    </tr>\n",
       "    <tr>\n",
       "      <th>1</th>\n",
       "      <td>Mandalay</td>\n",
       "      <td>Fashion accessories</td>\n",
       "      <td>264.73</td>\n",
       "    </tr>\n",
       "  </tbody>\n",
       "</table>\n",
       "</div>"
      ],
      "text/plain": [
       "         city            product_line   total\n",
       "3    Mandalay       Health and beauty  376.99\n",
       "8   Naypyitaw      Food and beverages  360.10\n",
       "4    Mandalay      Home and lifestyle  350.98\n",
       "11  Naypyitaw       Sports and travel  350.27\n",
       "6   Naypyitaw  Electronic accessories  344.89\n",
       "16     Yangon      Home and lifestyle  344.88\n",
       "7   Naypyitaw     Fashion accessories  331.69\n",
       "17     Yangon       Sports and travel  328.35\n",
       "5    Mandalay       Sports and travel  322.39\n",
       "13     Yangon     Fashion accessories  320.25\n",
       "9   Naypyitaw       Health and beauty  319.53\n",
       "0    Mandalay  Electronic accessories  310.03\n",
       "10  Naypyitaw      Home and lifestyle  308.79\n",
       "12     Yangon  Electronic accessories  305.29\n",
       "2    Mandalay      Food and beverages  304.30\n",
       "14     Yangon      Food and beverages  295.92\n",
       "15     Yangon       Health and beauty  268.04\n",
       "1    Mandalay     Fashion accessories  264.73"
      ]
     },
     "execution_count": 24,
     "metadata": {},
     "output_type": "execute_result"
    }
   ],
   "source": [
    "# Obtener ticket producto en linea y ciudad\n",
    "ticket_producto = df.groupby(['city', 'product_line'])['total'].mean().reset_index() #reset_index() devuelve un DataFrame\n",
    "ticket_producto['total'] = ticket_producto['total'].round(2)\n",
    "ticket_producto = ticket_producto.sort_values(by='total', ascending=False)\n",
    "ticket_producto\n"
   ]
  },
  {
   "cell_type": "code",
   "execution_count": 25,
   "id": "a6b0ab8c",
   "metadata": {},
   "outputs": [
    {
     "data": {
      "text/html": [
       "<div>\n",
       "<style scoped>\n",
       "    .dataframe tbody tr th:only-of-type {\n",
       "        vertical-align: middle;\n",
       "    }\n",
       "\n",
       "    .dataframe tbody tr th {\n",
       "        vertical-align: top;\n",
       "    }\n",
       "\n",
       "    .dataframe thead th {\n",
       "        text-align: right;\n",
       "    }\n",
       "</style>\n",
       "<table border=\"1\" class=\"dataframe\">\n",
       "  <thead>\n",
       "    <tr style=\"text-align: right;\">\n",
       "      <th></th>\n",
       "      <th>gender</th>\n",
       "      <th>total</th>\n",
       "    </tr>\n",
       "  </thead>\n",
       "  <tbody>\n",
       "    <tr>\n",
       "      <th>0</th>\n",
       "      <td>Female</td>\n",
       "      <td>335.10</td>\n",
       "    </tr>\n",
       "    <tr>\n",
       "      <th>1</th>\n",
       "      <td>Male</td>\n",
       "      <td>310.79</td>\n",
       "    </tr>\n",
       "  </tbody>\n",
       "</table>\n",
       "</div>"
      ],
      "text/plain": [
       "   gender   total\n",
       "0  Female  335.10\n",
       "1    Male  310.79"
      ]
     },
     "execution_count": 25,
     "metadata": {},
     "output_type": "execute_result"
    }
   ],
   "source": [
    "# Obtener ticket por género\n",
    "ticket_genero = df.groupby('gender')['total'].mean().reset_index()\n",
    "ticket_genero['total'] = ticket_genero['total'].round(2)\n",
    "ticket_genero = ticket_genero.sort_values(by='total', ascending=False)  \n",
    "ticket_genero\n"
   ]
  },
  {
   "cell_type": "code",
   "execution_count": 26,
   "id": "d9c46a30",
   "metadata": {},
   "outputs": [
    {
     "data": {
      "text/html": [
       "<div>\n",
       "<style scoped>\n",
       "    .dataframe tbody tr th:only-of-type {\n",
       "        vertical-align: middle;\n",
       "    }\n",
       "\n",
       "    .dataframe tbody tr th {\n",
       "        vertical-align: top;\n",
       "    }\n",
       "\n",
       "    .dataframe thead th {\n",
       "        text-align: right;\n",
       "    }\n",
       "</style>\n",
       "<table border=\"1\" class=\"dataframe\">\n",
       "  <thead>\n",
       "    <tr style=\"text-align: right;\">\n",
       "      <th></th>\n",
       "      <th>gender</th>\n",
       "      <th>city</th>\n",
       "      <th>total</th>\n",
       "    </tr>\n",
       "  </thead>\n",
       "  <tbody>\n",
       "    <tr>\n",
       "      <th>1</th>\n",
       "      <td>Female</td>\n",
       "      <td>Naypyitaw</td>\n",
       "      <td>346.55</td>\n",
       "    </tr>\n",
       "    <tr>\n",
       "      <th>2</th>\n",
       "      <td>Female</td>\n",
       "      <td>Yangon</td>\n",
       "      <td>330.86</td>\n",
       "    </tr>\n",
       "    <tr>\n",
       "      <th>0</th>\n",
       "      <td>Female</td>\n",
       "      <td>Mandalay</td>\n",
       "      <td>326.72</td>\n",
       "    </tr>\n",
       "    <tr>\n",
       "      <th>4</th>\n",
       "      <td>Male</td>\n",
       "      <td>Naypyitaw</td>\n",
       "      <td>325.89</td>\n",
       "    </tr>\n",
       "    <tr>\n",
       "      <th>3</th>\n",
       "      <td>Male</td>\n",
       "      <td>Mandalay</td>\n",
       "      <td>313.35</td>\n",
       "    </tr>\n",
       "    <tr>\n",
       "      <th>5</th>\n",
       "      <td>Male</td>\n",
       "      <td>Yangon</td>\n",
       "      <td>295.71</td>\n",
       "    </tr>\n",
       "  </tbody>\n",
       "</table>\n",
       "</div>"
      ],
      "text/plain": [
       "   gender       city   total\n",
       "1  Female  Naypyitaw  346.55\n",
       "2  Female     Yangon  330.86\n",
       "0  Female   Mandalay  326.72\n",
       "4    Male  Naypyitaw  325.89\n",
       "3    Male   Mandalay  313.35\n",
       "5    Male     Yangon  295.71"
      ]
     },
     "execution_count": 26,
     "metadata": {},
     "output_type": "execute_result"
    }
   ],
   "source": [
    "# Obtener ticket por género y ciudad\n",
    "ticket_genero_ciudad = df.groupby(['gender', 'city'])['total'].mean().reset_index()\n",
    "ticket_genero_ciudad['total'] = ticket_genero_ciudad['total'].round(2)\n",
    "ticket_genero_ciudad = ticket_genero_ciudad.sort_values(by='total', ascending=False)\n",
    "ticket_genero_ciudad"
   ]
  },
  {
   "cell_type": "code",
   "execution_count": 31,
   "id": "8695a2d8",
   "metadata": {},
   "outputs": [
    {
     "name": "stdout",
     "output_type": "stream",
     "text": [
      "        city        total  Porcentaje  Ranking\n",
      "1  Naypyitaw  110568.7065   34.235322      1.0\n",
      "2     Yangon  106200.3705   32.882757      2.0\n",
      "0   Mandalay  106197.6720   32.881921      3.0\n"
     ]
    }
   ],
   "source": [
    "# Top por ciudad \n",
    "ventas_ciudad = df.groupby(\"city\")[\"total\"].sum().reset_index()\n",
    "ventas_ciudad[\"Porcentaje\"] = (ventas_ciudad[\"total\"] / ventas_ciudad[\"total\"].sum()) * 100\n",
    "\n",
    "ventas_ciudad[\"Ranking\"] = ventas_ciudad[\"total\"].rank(method='dense', ascending=False)\n",
    "\n",
    "top_ciudad = ventas_ciudad.sort_values(\"Ranking\").head()\n",
    "\n",
    "print(top_ciudad)\n",
    "\n"
   ]
  },
  {
   "cell_type": "code",
   "execution_count": 33,
   "id": "0b3167fe",
   "metadata": {},
   "outputs": [
    {
     "name": "stdout",
     "output_type": "stream",
     "text": [
      "  customer_type       total  Porcentaje  Ranking\n",
      "0        Member  164223.444   50.848406      1.0\n",
      "1        Normal  158743.305   49.151594      2.0\n"
     ]
    }
   ],
   "source": [
    "# Top por memeber\n",
    "ventas_customertype = df.groupby(\"customer_type\")[\"total\"].sum().reset_index()\n",
    "ventas_customertype[\"Porcentaje\"] = (ventas_customertype[\"total\"] / ventas_customertype[\"total\"].sum()) * 100\n",
    "\n",
    "ventas_customertype[\"Ranking\"] = ventas_customertype[\"total\"].rank(method='dense', ascending=False)\n",
    "\n",
    "top_customertype = ventas_customertype.sort_values(\"Ranking\").head()\n",
    "\n",
    "print(top_customertype)"
   ]
  },
  {
   "cell_type": "code",
   "execution_count": 34,
   "id": "88785a74",
   "metadata": {},
   "outputs": [
    {
     "name": "stdout",
     "output_type": "stream",
     "text": [
      "       payment       total  Porcentaje  Ranking\n",
      "0         Cash  112206.570   34.742453      1.0\n",
      "2      Ewallet  109993.107   34.057099      2.0\n",
      "1  Credit card  100767.072   31.200448      3.0\n"
     ]
    }
   ],
   "source": [
    "# Top por ventas por payment\n",
    "ventas_payment = df.groupby(\"payment\")[\"total\"].sum().reset_index()\n",
    "ventas_payment[\"Porcentaje\"] = (ventas_payment[\"total\"] / ventas_payment[\"total\"].sum()) * 100\n",
    "\n",
    "ventas_payment[\"Ranking\"] = ventas_payment[\"total\"].rank(method='dense', ascending=False)\n",
    "\n",
    "top_payment = ventas_payment.sort_values(\"Ranking\").head()\n",
    "\n",
    "print(top_payment)"
   ]
  },
  {
   "cell_type": "code",
   "execution_count": null,
   "id": "90f7f99b",
   "metadata": {},
   "outputs": [
    {
     "data": {
      "text/plain": [
       "array([[ 1.        , -0.00877751],\n",
       "       [-0.00877751,  1.        ]])"
      ]
     },
     "execution_count": 36,
     "metadata": {},
     "output_type": "execute_result"
    }
   ],
   "source": [
    "# Correlación\n",
    "r = np.corrcoef(unit_price_np, df.rating)\n",
    "r\n",
    "\n",
    "# Los productos más caros no son necesariamente lo que dejan más margen."
   ]
  },
  {
   "cell_type": "code",
   "execution_count": null,
   "id": "58af53d5",
   "metadata": {},
   "outputs": [],
   "source": []
  }
 ],
 "metadata": {
  "kernelspec": {
   "display_name": "base",
   "language": "python",
   "name": "python3"
  },
  "language_info": {
   "codemirror_mode": {
    "name": "ipython",
    "version": 3
   },
   "file_extension": ".py",
   "mimetype": "text/x-python",
   "name": "python",
   "nbconvert_exporter": "python",
   "pygments_lexer": "ipython3",
   "version": "3.12.7"
  }
 },
 "nbformat": 4,
 "nbformat_minor": 5
}
